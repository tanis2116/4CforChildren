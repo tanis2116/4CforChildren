{
 "cells": [
  {
   "cell_type": "markdown",
   "metadata": {},
   "source": [
    "## Analysis for 4C for Children\n",
    "\n",
    "This analysis was requested by **4C for Children**, a nonprofit organization.  \n",
    "\n",
    "4C for Children is a **Child Care Resource & Referral Agency** that supports everyone who cares for young children—ranging from parents to child care providers. The organization's mission is to ensure **high-quality early education and care** for all children.\n",
    "\n",
    "A questionaire was presented to childcare centers and in-home childcare centers (Family Childcare Centers/FCCs) to assess their ability to fill classes due to staffing concerns. A secondary purpose is to identify those who might need assistance in understanding or utilizing the \"Step Up to Quality\" rating system.\n"
   ]
  },
  {
   "cell_type": "code",
   "execution_count": 4,
   "metadata": {},
   "outputs": [
    {
     "name": "stdout",
     "output_type": "stream",
     "text": [
      "   Respondent ID  Collector ID           Start Date             End Date  \\\n",
      "0  Respondent ID  Collector ID           Start Date             End Date   \n",
      "1   118763424407     458928874  2024-12-13 10:20:08  2024-12-13 10:32:22   \n",
      "2   118763412562     458928874  2024-12-13 10:03:44  2024-12-13 10:07:54   \n",
      "3   118763398077     458928874  2024-12-13 09:44:15  2024-12-13 10:00:43   \n",
      "4   118763401888     458928874  2024-12-13 09:32:28  2024-12-13 10:00:20   \n",
      "\n",
      "        IP Address  Email Address  First Name  Last Name  Custom Data 1  \\\n",
      "0       IP Address  Email Address  First Name  Last Name  Custom Data 1   \n",
      "1     107.9.45.226            NaN         NaN        NaN            NaN   \n",
      "2      98.29.75.39            NaN         NaN        NaN            NaN   \n",
      "3     107.9.45.226            NaN         NaN        NaN            NaN   \n",
      "4  216.196.238.146            NaN         NaN        NaN            NaN   \n",
      "\n",
      "           I am a...  ...  \\\n",
      "0          I am a...  ...   \n",
      "1             Center  ...   \n",
      "2             Center  ...   \n",
      "3             Center  ...   \n",
      "4  Family Child Care  ...   \n",
      "\n",
      "  Which populations are you serving or have previously served?.1  \\\n",
      "0                 Children Experiencing Homelessness               \n",
      "1                                                NaN               \n",
      "2                                                NaN               \n",
      "3                                                NaN               \n",
      "4                                                NaN               \n",
      "\n",
      "  Which populations are you serving or have previously served?.2  \\\n",
      "0                        Children with Special Needs               \n",
      "1                                                NaN               \n",
      "2                                                NaN               \n",
      "3                                                NaN               \n",
      "4                        Children with Special Needs               \n",
      "\n",
      "  Which populations are you serving or have previously served?.3  \\\n",
      "0                                Infants or Toddlers               \n",
      "1                                                NaN               \n",
      "2                                                NaN               \n",
      "3                                                NaN               \n",
      "4                                                NaN               \n",
      "\n",
      "  Is there any support we could offer that would encourage you to care for children from a special population?  \\\n",
      "0  Is there any support we could offer that would...                                                             \n",
      "1                                                NaN                                                             \n",
      "2                                                NaN                                                             \n",
      "3                                                NaN                                                             \n",
      "4                                                NaN                                                             \n",
      "\n",
      "  If you had to name one thing that is a barrier to being successful, what would that barrier be?  \\\n",
      "0  If you had to name one thing that is a barrier...                                                \n",
      "1  Staffing - hiring qualified staff. Would like ...                                                \n",
      "2                                                NaN                                                \n",
      "3  Staffing - both quality and correct amount. A ...                                                \n",
      "4  more diversity - in a neighborhood that is div...                                                \n",
      "\n",
      "                         Email             Address        City  State    Zip  \n",
      "0                        Email             Address        City  State    Zip  \n",
      "1  kbenkert@learning-grove.org    1995 Central Ave  Cincinnati     OH  45214  \n",
      "2                          NaN                 NaN         NaN    NaN    NaN  \n",
      "3       kathy.haders@cchmc.org       520 Linton St  Cincinnati     OH  45219  \n",
      "4        bstacey1973@gmail.com  6525 Elwynne Drive  Cincinnati  Ohio   45236  \n",
      "\n",
      "[5 rows x 100 columns]\n"
     ]
    }
   ],
   "source": [
    "import pandas as pd\n",
    "\n",
    "file_path = \"State of Childcare Survey.xlsx\"\n",
    "df = pd.read_excel(file_path)\n",
    "print(df.head())"
   ]
  },
  {
   "cell_type": "markdown",
   "metadata": {},
   "source": [
    "## Initial Check:\n",
    "- Dataset is very wide with approximately 100 columns.\n",
    "- Dataset is split into two main groups of questions:\n",
    "  - Columns A - BM are questions for Centers\n",
    "  - Columns BN - CQ are questions for Family Childcare\n",
    "  - Columns CR - CV are questions for both \n",
    "  - There are multiple sets of questions that are addressed to both types\n",
    "- In this analysis, we may not utilize every column, but some can be removed as unnessary.\n",
    "  - empty\n",
    "  - personal identifying information\n",
    "  - unneccessary information such as IPAddress"
   ]
  },
  {
   "cell_type": "code",
   "execution_count": null,
   "metadata": {},
   "outputs": [],
   "source": [
    "df = df.drop(columns=[\"B\", \"E\", \"F\", \"G\", \"H\", \"I\", \"CP\", \"CQ\", \"CR\", \"CS\", \"CT\", \"CU\", \"CV\"])"
   ]
  }
 ],
 "metadata": {
  "kernelspec": {
   "display_name": "Python 3",
   "language": "python",
   "name": "python3"
  },
  "language_info": {
   "codemirror_mode": {
    "name": "ipython",
    "version": 3
   },
   "file_extension": ".py",
   "mimetype": "text/x-python",
   "name": "python",
   "nbconvert_exporter": "python",
   "pygments_lexer": "ipython3",
   "version": "3.10.11"
  }
 },
 "nbformat": 4,
 "nbformat_minor": 2
}
