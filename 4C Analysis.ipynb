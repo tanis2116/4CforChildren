{
 "cells": [
  {
   "cell_type": "markdown",
   "metadata": {},
   "source": [
    "## Analysis for 4C for Children\n",
    "\n",
    "This analysis was requested by **4C for Children**, a nonprofit organization.  \n",
    "\n",
    "4C for Children is a **Child Care Resource & Referral Agency** that supports everyone who cares for young children—ranging from parents to child care providers. The organization's mission is to ensure **high-quality early education and care** for all children.\n",
    "\n",
    "A questionaire was presented to childcare centers and in-home childcare centers (Family Childcare Centers/FCCs) to assess their ability to fill classes due to staffing concerns. A secondary purpose is to identify those who might need assistance in understanding or utilizing the \"Step Up to Quality\" rating system.\n"
   ]
  },
  {
   "cell_type": "code",
   "execution_count": null,
   "metadata": {},
   "outputs": [],
   "source": [
    "import pandas as pd\n",
    "import matplotlib.pyplot as plt\n",
    "\n",
    "file_path = \"State of Childcare Survey.xlsx\"\n",
    "df = pd.read_excel(file_path)\n",
    "print(df.head())"
   ]
  },
  {
   "cell_type": "markdown",
   "metadata": {},
   "source": [
    "### Initial Check:\n",
    "- Dataset is very wide with approximately 100 columns.\n",
    "- Dataset is split into two main groups of questions:\n",
    "  - Columns A - BM are questions for Centers\n",
    "  - Columns BN - CQ are questions for Family Childcare\n",
    "  - Columns CR - CV are questions for both \n",
    "  - There are multiple sets of questions that are addressed to both types\n",
    "- In this analysis, we may not utilize every column, but some can be removed as unnessary.\n",
    "  - empty\n",
    "  - personal identifying information\n",
    "  - unneccessary information such as ipaddress"
   ]
  },
  {
   "cell_type": "code",
   "execution_count": 2,
   "metadata": {},
   "outputs": [],
   "source": [
    "#Drop columns unnecessary for either type of center and open-ended responses\n",
    "#positions_to_drop = [1,4,5,6,7,8,62,78,79,80,81,82,83,84,85,86,93,94,95,96,97,98,99]\n",
    "positions_to_drop = [1,4,5,6,7,8,46,47,53,55,58,64,75,76,77,82,84,87,93,94,95,96,97,98,99]\n",
    "columns_to_drop = df.columns[positions_to_drop]\n",
    "df = df.drop(columns=columns_to_drop)"
   ]
  },
  {
   "cell_type": "code",
   "execution_count": null,
   "metadata": {},
   "outputs": [],
   "source": [
    "# There are currently 2 header rows.  Pandas thinks the second header row is data, so the below skips that row \n",
    "# to properly do the date conversion. Errors='coerce' is set to set anything that won't covert to be NaN\n",
    "df.loc[1:, 'Start Date'] = pd.to_datetime(df.loc[1:, 'Start Date'], errors='coerce').dt.date\n",
    "df.loc[1:, 'End Date'] = pd.to_datetime(df.loc[1:, 'End Date'], errors='coerce').dt.date\n",
    "print(df['Start Date'].iloc[1:])\n",
    "print(df['End Date'].iloc[1:])\n",
    "\n"
   ]
  },
  {
   "cell_type": "code",
   "execution_count": 11,
   "metadata": {},
   "outputs": [],
   "source": [
    "#create Center oriented data frame\n",
    "center_columns_to_drop = df.columns[53:75]\n",
    "center_df = df.drop(columns=center_columns_to_drop).copy()\n",
    "center_df = center_df[center_df['I am a...'] == 'Center']\n",
    "\n",
    "# create FCC oriented data frame\n",
    "fcc_columns_to_drop = df.columns[0:53]\n",
    "fcc_df = df.drop(columns=fcc_columns_to_drop).copy()\n",
    "fcc_df = center_df[center_df['I am a...'] == 'Family Child Care']\n",
    "\n",
    "#print(center_df.head())\n",
    "#print(fcc_df.head())"
   ]
  },
  {
   "cell_type": "code",
   "execution_count": 6,
   "metadata": {},
   "outputs": [],
   "source": [
    "# Function to handle numeric data wrangling.  \n",
    "# I decided if it were empty, I'd like to keep it empty.  \n",
    "# If there is text, I'll assume at least a 1 value.\n",
    "# If there is a number, it will remain a number\n",
    "\n",
    "def number_conversion(value):\n",
    "    if isinstance(value, str):\n",
    "        return 1\n",
    "    elif pd.isna(value):\n",
    "        return value\n",
    "    else:\n",
    "        return value"
   ]
  },
  {
   "cell_type": "code",
   "execution_count": 12,
   "metadata": {},
   "outputs": [
    {
     "name": "stdout",
     "output_type": "stream",
     "text": [
      "  Respondent ID  Start Date    End Date I am a...  \\\n",
      "1  118763424407  2024-12-13  2024-12-13    Center   \n",
      "2  118763412562  2024-12-13  2024-12-13    Center   \n",
      "3  118763398077  2024-12-13  2024-12-13    Center   \n",
      "5  118763387777  2024-12-13  2024-12-13    Center   \n",
      "7  118763379562  2024-12-13  2024-12-13    Center   \n",
      "\n",
      "  Do you have any classrooms that are not open to children because of a shortage of staff?  \\\n",
      "1                                                Yes                                         \n",
      "2                                                NaN                                         \n",
      "3                                                 No                                         \n",
      "5                                                Yes                                         \n",
      "7                                                 No                                         \n",
      "\n",
      "  classrooms not open-Infant classrooms not open-Toddler  \\\n",
      "1                        NaN                           1   \n",
      "2                        NaN                         NaN   \n",
      "3                        NaN                         NaN   \n",
      "5                        NaN                           1   \n",
      "7                          1                           1   \n",
      "\n",
      "  classrooms not open-Preschool classrooms not open-School Age  \\\n",
      "1                             1                            NaN   \n",
      "2                           NaN                            NaN   \n",
      "3                           NaN                            NaN   \n",
      "5                           NaN                            NaN   \n",
      "7                             2                            NaN   \n",
      "\n",
      "  staff needed to open these classrooms-Infant  ... Is your program rated?  \\\n",
      "1                                          NaN  ...                    Yes   \n",
      "2                                          NaN  ...                    NaN   \n",
      "3                                          NaN  ...                    Yes   \n",
      "5                                          NaN  ...                    Yes   \n",
      "7                                            1  ...                    Yes   \n",
      "\n",
      "  Are you planning to become quality rated?  \\\n",
      "1                                       NaN   \n",
      "2                                       NaN   \n",
      "3                                       NaN   \n",
      "5                                       NaN   \n",
      "7                                       NaN   \n",
      "\n",
      "  Are you planning to stay in the quality rating system?  \\\n",
      "1                                                Yes       \n",
      "2                                                NaN       \n",
      "3                                                Yes       \n",
      "5                                                Yes       \n",
      "7                                                Yes       \n",
      "\n",
      "  Do you understand the new rating system?  \\\n",
      "1                                      Yes   \n",
      "2                                      NaN   \n",
      "3                                       No   \n",
      "5                                      Yes   \n",
      "7                                      Yes   \n",
      "\n",
      "  Do you need any assistance with getting rated or understanding the rating system?  \\\n",
      "1                                                 No                                  \n",
      "2                                                NaN                                  \n",
      "3                                                Yes                                  \n",
      "5                                                 No                                  \n",
      "7                                                 No                                  \n",
      "\n",
      "  Have you ever served or are you serving any children or families that fall into a special population (English Language Learners, Children Experiencing Homelessness, Children with Special Needs, Infants/Toddlers)  \\\n",
      "1                                                Yes                                                                                                                                                                    \n",
      "2                                                NaN                                                                                                                                                                    \n",
      "3                                                Yes                                                                                                                                                                    \n",
      "5                                                Yes                                                                                                                                                                    \n",
      "7                                                Yes                                                                                                                                                                    \n",
      "\n",
      "  Which populations are you serving or did you serve?-English Language Learner  \\\n",
      "1                           English Language Learner                             \n",
      "2                                                NaN                             \n",
      "3                                                NaN                             \n",
      "5                                                NaN                             \n",
      "7                                                NaN                             \n",
      "\n",
      "  Which populations are you serving or did you serve?-Children Experiencing Homelessness  \\\n",
      "1                 Children Experiencing Homelessness                                       \n",
      "2                                                NaN                                       \n",
      "3                                                NaN                                       \n",
      "5                 Children Experiencing Homelessness                                       \n",
      "7                                                NaN                                       \n",
      "\n",
      "  Which populations are you serving or did you serve?-Children with Special Needs  \\\n",
      "1                        Children with Special Needs                                \n",
      "2                                                NaN                                \n",
      "3                        Children with Special Needs                                \n",
      "5                        Children with Special Needs                                \n",
      "7                        Children with Special Needs                                \n",
      "\n",
      "  Which populations are you serving or did you serve?-Infants and/or Toddlers  \n",
      "1                            Infants and/or Toddlers                           \n",
      "2                                                NaN                           \n",
      "3                            Infants and/or Toddlers                           \n",
      "5                            Infants and/or Toddlers                           \n",
      "7                                                NaN                           \n",
      "\n",
      "[5 rows x 53 columns]\n"
     ]
    }
   ],
   "source": [
    "#Apply conversion function to columns I wish to perform math on.\n",
    "#center_df.loc['classrooms not open-Infant'] = center_df['classrooms not open-Infant'].apply(number_conversion)\n",
    "#center_df.loc['classrooms not open-Toddler'] = center_df['classrooms not open-Toddler'].apply(number_conversion)\n",
    "#center_df.loc['classrooms not open-Preschool'] = center_df['classrooms not open-Preschool'].apply(number_conversion)\n",
    "#center_df.loc['classrooms not open-School Age'] = center_df['classrooms not open-School Age'].apply(number_conversion)\n",
    "print(center_df.head())\n",
    "#print(fcc_df.head())"
   ]
  },
  {
   "cell_type": "code",
   "execution_count": 13,
   "metadata": {},
   "outputs": [
    {
     "name": "stdout",
     "output_type": "stream",
     "text": [
      "Total number of unique respondents: 134\n",
      "Total classrooms not open-Infant: 17.0\n",
      "Total classrooms not open-Toddler: 29.0\n",
      "Total classrooms not open-Preschool: 34.0\n",
      "Total classrooms not open-School Age: 16.0\n"
     ]
    }
   ],
   "source": [
    "# Identify the relevant columns\n",
    "columns_to_convert = ['classrooms not open-Infant', \n",
    "                      'classrooms not open-Toddler', \n",
    "                      'classrooms not open-Preschool', \n",
    "                      'classrooms not open-School Age']\n",
    "\n",
    "# Apply the conversion to each column\n",
    "for col in columns_to_convert:\n",
    "    center_df[col] = center_df[col].apply(number_conversion)\n",
    "\n",
    "#sum the columns\n",
    "column_sums = center_df[columns_to_convert].sum()\n",
    "\n",
    "# Count the unique values in the 'Respondent ID' column\n",
    "unique_respondents = center_df['Respondent ID'].nunique()\n",
    "\n",
    "print(f\"Total number of unique respondents: {unique_respondents}\")\n",
    "\n",
    "# Print the results for each column\n",
    "for col, sum_value in column_sums.items():\n",
    "    print(f\"Total {col}: {sum_value}\")\n"
   ]
  }
 ],
 "metadata": {
  "kernelspec": {
   "display_name": "Python 3",
   "language": "python",
   "name": "python3"
  },
  "language_info": {
   "codemirror_mode": {
    "name": "ipython",
    "version": 3
   },
   "file_extension": ".py",
   "mimetype": "text/x-python",
   "name": "python",
   "nbconvert_exporter": "python",
   "pygments_lexer": "ipython3",
   "version": "3.10.11"
  }
 },
 "nbformat": 4,
 "nbformat_minor": 2
}
